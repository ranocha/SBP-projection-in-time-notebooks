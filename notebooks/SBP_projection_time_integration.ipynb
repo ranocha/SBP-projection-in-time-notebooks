{
 "cells": [
  {
   "cell_type": "markdown",
   "metadata": {},
   "source": [
    "# Setup\n",
    "\n",
    "This notebook has been created using Julia v1.3. Run the cells below to setup the project."
   ]
  },
  {
   "cell_type": "code",
   "execution_count": null,
   "metadata": {},
   "outputs": [],
   "source": [
    "import Pkg\n",
    "Pkg.activate(\".\")\n",
    "Pkg.instantiate()"
   ]
  },
  {
   "cell_type": "code",
   "execution_count": null,
   "metadata": {},
   "outputs": [],
   "source": [
    "using LinearAlgebra\n",
    "\n",
    "import Jacobi\n",
    "using PolynomialBases\n",
    "using SummationByPartsOperators\n",
    "\n",
    "import PyPlot; plt = PyPlot\n",
    "using LaTeXStrings, PyCall\n",
    "using Latexify\n",
    "\n",
    "ticker = pyimport(\"matplotlib.ticker\")\n",
    "\n",
    "# line cycler adapted to colourblind people\n",
    "cycler = pyimport(\"cycler\")\n",
    "cycler.cycler\n",
    "colours = [\"#E69F00\", \"#56B4E9\", \"#009E73\", \"#0072B2\", \"#D55E00\", \"#CC79A7\", \"#F0E442\"]\n",
    "linestyles = [\"-\", \"--\", \"-.\", \":\", \"-\", \"--\", \"-.\"]\n",
    "markers = [\"4\", \"2\", \"3\", \"1\", \"+\", \"x\", \".\"]\n",
    "colourblind_cycler = (cycler.cycler(color=colours) + cycler.cycler(linestyle=linestyles))\n",
    "plt.rc(\"axes\", prop_cycle=colourblind_cycler)\n",
    "\n",
    "plt.rc(\"text\", usetex=true)\n",
    "plt.rc(\"text.latex\", preamble=\"\\\\usepackage{newpxtext}\\\\usepackage{newpxmath}\\\\usepackage{commath}\\\\usepackage{mathtools}\")\n",
    "plt.rc(\"font\", family=\"serif\", size=18.)\n",
    "plt.rc(\"savefig\", dpi=200)\n",
    "plt.rc(\"legend\", fontsize=\"medium\", fancybox=true, framealpha=0.5)\n",
    "\n",
    "isdir(\"../figures\") || mkdir(\"../figures\")"
   ]
  },
  {
   "cell_type": "markdown",
   "metadata": {},
   "source": [
    "# Computation of the Butcher Coefficients"
   ]
  },
  {
   "cell_type": "code",
   "execution_count": null,
   "metadata": {},
   "outputs": [],
   "source": [
    "SummationByPartsOperators.mass_matrix(D::LegendreDerivativeOperator) = Diagonal(D.Δx * D.basis.weights)\n",
    "\n",
    "\n",
    "function butcher_coefficients(M, D, x, tL, tR)\n",
    "    Δ = tR'*x - tL'*x\n",
    "    \n",
    "    # grid oscillations\n",
    "    kernel = nullspace(M \\ D' * M)\n",
    "    if size(kernel, 2) > 1\n",
    "        throw(ArgumentError(\"The derivative operator D must be nullspace consistent!\"))\n",
    "    end\n",
    "    osc = vec(kernel)\n",
    "    \n",
    "    # solve the linear system -> least norm solution\n",
    "    A = qr(D, Val(true)) \\ (I - (osc * osc' * M) / (osc'*M*osc))\n",
    "    # and set the initial values to zero\n",
    "    for j in 1:size(A,2)\n",
    "        A[:,j] .-= tL' * A[:,j]\n",
    "    end\n",
    "    A ./= Δ\n",
    "    \n",
    "    A, diag(M) ./ Δ, (x .- tL' * x) ./ Δ\n",
    "end\n",
    "\n",
    "function butcher_coefficients(basis::NodalBasis)\n",
    "    M = Diagonal(basis.weights)\n",
    "    D = basis.D\n",
    "    x = basis.nodes\n",
    "    tL = basis.interp_left\n",
    "    tR = basis.interp_right\n",
    "    \n",
    "    butcher_coefficients(M, D, x, tL, tR)\n",
    "end\n",
    "\n",
    "function butcher_coefficients(D_op::SummationByPartsOperators.AbstractDerivativeOperator)\n",
    "    M = mass_matrix(D_op)\n",
    "    D = Matrix(D_op)\n",
    "    x = grid(D_op)\n",
    "    tL = zero(x); tL[1] = 1\n",
    "    tR = zero(x); tR[end] = 1\n",
    "    \n",
    "    butcher_coefficients(M, D, x, tL, tR)\n",
    "end"
   ]
  },
  {
   "cell_type": "markdown",
   "metadata": {},
   "source": [
    "# Lobatto Legendre Nodes: Lobatto IIIA Methods"
   ]
  },
  {
   "cell_type": "code",
   "execution_count": null,
   "metadata": {},
   "outputs": [],
   "source": [
    "D_op = legendre_derivative_operator(0., 1., 2)\n",
    "A, b, c = butcher_coefficients(D_op)\n",
    "display(A)\n",
    "# the analytical values\n",
    "[0 0; 1/2 1/2]"
   ]
  },
  {
   "cell_type": "code",
   "execution_count": null,
   "metadata": {},
   "outputs": [],
   "source": [
    "D_op = legendre_derivative_operator(0., 1., 3)\n",
    "A, b, c = butcher_coefficients(D_op)\n",
    "display(A)\n",
    "# the analytical values\n",
    "[0 0 0; 5/24 1/3 -1/24; 1/6 2/3 1/6]"
   ]
  },
  {
   "cell_type": "code",
   "execution_count": null,
   "metadata": {},
   "outputs": [],
   "source": [
    "D_op = legendre_derivative_operator(0., 1., 4)\n",
    "A, b, c = butcher_coefficients(D_op)\n",
    "display(A)\n",
    "# the analytical values\n",
    "sqrt5 = sqrt(5)\n",
    "[0 0 0 0; \n",
    "    (11+sqrt5)/120 (25-sqrt5)/120 (25-13sqrt5)/120 (-1+sqrt5)/120;\n",
    "    (11-sqrt5)/120 (25+13sqrt5)/120 (25+sqrt5)/120 (-1-sqrt5)/120;\n",
    "    1/12 5/12 5/12 1/12\n",
    "]"
   ]
  },
  {
   "cell_type": "code",
   "execution_count": null,
   "metadata": {},
   "outputs": [],
   "source": []
  },
  {
   "cell_type": "markdown",
   "metadata": {},
   "source": [
    "# Gauss/Radau Legendre Nodes: None of the Classical RK Schemes"
   ]
  },
  {
   "cell_type": "code",
   "execution_count": null,
   "metadata": {},
   "outputs": [],
   "source": [
    "basis = GaussLegendre(1)\n",
    "A, b, c = butcher_coefficients(basis)\n",
    "A"
   ]
  },
  {
   "cell_type": "code",
   "execution_count": null,
   "metadata": {},
   "outputs": [],
   "source": [
    "q = Jacobi.Quadrature(Jacobi.GRJM, 2)\n",
    "M = Diagonal(Jacobi.qweights(q))\n",
    "D = Jacobi.qdiff(q)\n",
    "x = Jacobi.qzeros(q)\n",
    "tL = Jacobi.interp_mat([-one(eltype(x))], x) |> vec\n",
    "tR = Jacobi.interp_mat([+one(eltype(x))], x) |> vec\n",
    "A, b, c = butcher_coefficients(M, D, x, tL, tR)\n",
    "A"
   ]
  },
  {
   "cell_type": "code",
   "execution_count": null,
   "metadata": {},
   "outputs": [],
   "source": []
  },
  {
   "cell_type": "markdown",
   "metadata": {},
   "source": [
    "# The FD SBP Operators used in the Numerical Tests"
   ]
  },
  {
   "cell_type": "code",
   "execution_count": null,
   "metadata": {},
   "outputs": [],
   "source": [
    "N = 9\n",
    "order = 4\n",
    "D_op = derivative_operator(MattssonNordström2004(), 1, order, 0//1, 1//1, N)\n",
    "A_, b, c = butcher_coefficients(D_op)\n",
    "A = rationalize.(A_, tol=1.0e-5)\n",
    "display(A)\n",
    "display(b)\n",
    "display(c)\n",
    "latexify(A) |> println\n",
    "latexify(b) |> println\n",
    "latexify(c) |> println"
   ]
  },
  {
   "cell_type": "code",
   "execution_count": null,
   "metadata": {},
   "outputs": [],
   "source": []
  },
  {
   "cell_type": "code",
   "execution_count": null,
   "metadata": {},
   "outputs": [],
   "source": []
  },
  {
   "cell_type": "markdown",
   "metadata": {},
   "source": [
    "# Numerical Tests Using FD SBP Operators"
   ]
  },
  {
   "cell_type": "code",
   "execution_count": null,
   "metadata": {},
   "outputs": [],
   "source": [
    "function compute_error_nonstiff(λ, N, order)\n",
    "    D_op = derivative_operator(MattssonNordström2004(), 1, order, 0., 1., N)\n",
    "    \n",
    "    M = mass_matrix(D_op)\n",
    "    D = Matrix(D_op)\n",
    "    t = SummationByPartsOperators.grid(D_op)\n",
    "    Δ = last(t) - first(t)\n",
    "    \n",
    "    # grid oscillations\n",
    "    kernel = nullspace(M \\ D' * M)\n",
    "    if size(kernel, 2) != 1\n",
    "        throw(ArgumentError(\"The derivative operator D must be nullspace consistent!\"))\n",
    "    end\n",
    "    osc = vec(kernel)\n",
    "    \n",
    "    # solve the linear system -> least norm solution\n",
    "    A = qr(D, Val(true)) \\ (I - (osc * osc' * M) / (osc'*M*osc))\n",
    "    # and set the initial values to zero\n",
    "    for j in 1:size(A,2)\n",
    "        A[:,j] .-= A[1,j]\n",
    "    end\n",
    "    \n",
    "    # compute solution\n",
    "    u0 = fill(1., size(D,2))\n",
    "    u = (I - λ*A) \\ u0\n",
    "    \n",
    "    t, u, abs(last(u) - exp(λ*(last(t)-first(t))))\n",
    "end\n",
    "\n",
    "function compute_error_stiff(λ, N, order)\n",
    "    D_op = derivative_operator(MattssonNordström2004(), 1, order, 0., 1., N)\n",
    "    \n",
    "    M = mass_matrix(D_op)\n",
    "    D = Matrix(D_op)\n",
    "    t = SummationByPartsOperators.grid(D_op)\n",
    "    Δ = last(t) - first(t)\n",
    "    \n",
    "    # grid oscillations\n",
    "    kernel = nullspace(M \\ D' * M)\n",
    "    if size(kernel, 2) != 1\n",
    "        throw(ArgumentError(\"The derivative operator D must be nullspace consistent!\"))\n",
    "    end\n",
    "    osc = vec(kernel)\n",
    "    \n",
    "    # solve the linear system -> least norm solution\n",
    "    A = qr(D, Val(true)) \\ (I - (osc * osc' * M) / (osc'*M*osc))\n",
    "    # and set the initial values to zero\n",
    "    for j in 1:size(A,2)\n",
    "        A[:,j] .-= A[1,j]\n",
    "    end\n",
    "    \n",
    "    # compute solution\n",
    "    u0 = fill(1., size(D,2))\n",
    "    u = (I - λ*A) \\ (u0 - A * (@. (λ+1) * exp(-t)))\n",
    "    \n",
    "    t, u, abs(last(u) - exp(-(last(t)-first(t))))\n",
    "end\n",
    "\n",
    "function convergence_orders(Ns, errors)\n",
    "    @assert length(Ns) == length(errors)\n",
    "    \n",
    "    orders = zero(errors)\n",
    "    orders[1] = NaN\n",
    "    for i in 2:length(errors)\n",
    "        orders[i] = - log(errors[i-1] / errors[i]) / log(Ns[i-1] / Ns[i])\n",
    "    end\n",
    "    orders\n",
    "end\n",
    "\n",
    "#t, u, e = compute_error_stiff(-1000.0, 100, 2); println(e); Plots.plot(t, u); Plots.plot!(t, exp.(-t))"
   ]
  },
  {
   "cell_type": "markdown",
   "metadata": {},
   "source": [
    "## Non-stiff Problem"
   ]
  },
  {
   "cell_type": "code",
   "execution_count": null,
   "metadata": {},
   "outputs": [],
   "source": [
    "Ns = 20:10:130\n",
    "\n",
    "plt.close(\"all\")\n",
    "fig, ax = plt.subplots(1, 1)\n",
    "\n",
    "for (idx,order) in enumerate(2:2:8)\n",
    "    errors = zeros(length(Ns))\n",
    "    for (idx,N) in enumerate(Ns)\n",
    "        _, _, errors[idx] = compute_error_nonstiff(-1.0, N, order)\n",
    "    end\n",
    "    plt.plot(Ns, errors, label=\"Interior order $order\", marker=markers[idx], ms=12, mew=1.5, lw=2)\n",
    "    println(convergence_orders(Ns, errors))\n",
    "    \n",
    "    order_color = \"silver\"\n",
    "    if order == 2\n",
    "        plt.plot([Ns[1],Ns[end]], 7.e-5.*[1, (Ns[1]/Ns[end])^2], \"-\", color=order_color)\n",
    "        plt.annotate(\"Order 2\", (Ns[1], 6.e-6), color=order_color)\n",
    "    elseif order == 4\n",
    "        plt.plot([Ns[1],Ns[end]], 5.e-8.*[1, (Ns[1]/Ns[end])^4], \"-\", color=order_color)\n",
    "        plt.annotate(\"Order 4\", (Ns[1], 2.e-9), color=order_color)\n",
    "    elseif order == 6\n",
    "        plt.plot([Ns[1],Ns[end]], 1.e-10.*[1, (Ns[1]/Ns[end])^6], \"-\", color=order_color)\n",
    "        plt.annotate(\"Order 6\", (Ns[1], 1.5e-10), color=order_color)\n",
    "    elseif order == 8\n",
    "        plt.plot([Ns[1],60], 7.e-13.*[1, (Ns[1]/60)^8], \"-\", color=order_color)\n",
    "        plt.annotate(\"Order 8\", (Ns[1], 7.e-15), color=order_color)\n",
    "    end\n",
    "end\n",
    "sleep(0.1)\n",
    "\n",
    "plt.xlabel(L\"N\")\n",
    "plt.xscale(\"log\")\n",
    "plt.ylabel(\"Error\")\n",
    "plt.yscale(\"log\")\n",
    "ax.xaxis.set_minor_formatter(ticker.NullFormatter())\n",
    "ax.set_xticks([20, 30, 40, 60, 80, 100, 130], [])\n",
    "ax.get_xaxis().set_major_formatter(ticker.ScalarFormatter())\n",
    "plt.legend(loc=\"upper left\", bbox_to_anchor=(1,1))\n",
    "plt.savefig(\"../figures/convergence_scalar_nonstiff.pdf\", bbox_inches=\"tight\")"
   ]
  },
  {
   "cell_type": "markdown",
   "metadata": {},
   "source": [
    "## Stiff Problem"
   ]
  },
  {
   "cell_type": "code",
   "execution_count": null,
   "metadata": {},
   "outputs": [],
   "source": [
    "Ns = 20:20:200\n",
    "\n",
    "plt.close(\"all\")\n",
    "fig, ax = plt.subplots(1, 1)\n",
    "\n",
    "for (idx,order) in enumerate(2:2:8)\n",
    "    errors = zeros(length(Ns))\n",
    "    for (idx,N) in enumerate(Ns)\n",
    "        _, _, errors[idx] = compute_error_stiff(-1000.0, N, order)\n",
    "    end\n",
    "    plt.plot(Ns, errors, label=\"Interior order $order\", marker=markers[idx], ms=12, mew=1.5, lw=2)\n",
    "    println(convergence_orders(Ns, errors))\n",
    "    \n",
    "    order_color = \"silver\"\n",
    "    if order == 2\n",
    "        plt.plot([Ns[1],80], 2.e-5.*[1, (Ns[1]/80)^1], \"-\", color=order_color)\n",
    "        plt.annotate(\"Order 1\", (30, 1.5e-5), color=order_color)\n",
    "        plt.plot([80,Ns[end]], 5.e-6.*[1, (80/Ns[end])^2], \"-\", color=order_color)\n",
    "        plt.annotate(\"Order 2\", (80, 6.e-6), color=order_color)\n",
    "    elseif order == 4\n",
    "        plt.plot([Ns[1],Ns[end]], 2.5e-6.*[1, (Ns[1]/Ns[end])^2.3], \"-\", color=order_color)\n",
    "        plt.annotate(\"Order 2.3\", (Ns[1], 3.e-6), color=order_color)\n",
    "    elseif order == 6\n",
    "        plt.plot([Ns[1],Ns[end]], 5.e-8.*[1, (Ns[1]/Ns[end])^3], \"-\", color=order_color)\n",
    "        plt.annotate(\"Order 3\", (Ns[1], 6.e-8), color=order_color)\n",
    "    elseif order == 8\n",
    "        plt.plot([Ns[1],Ns[end]], 7.e-9.*[1, (Ns[1]/Ns[end])^4.4], \"-\", color=order_color)\n",
    "        plt.annotate(\"Order 4.4\", (Ns[1], 2.5e-10), color=order_color)\n",
    "    end\n",
    "end\n",
    "sleep(0.1)\n",
    "\n",
    "plt.xlabel(L\"N\")\n",
    "plt.xscale(\"log\")\n",
    "plt.ylabel(\"Error\")\n",
    "plt.yscale(\"log\")\n",
    "ax.xaxis.set_minor_formatter(ticker.NullFormatter())\n",
    "ax.set_xticks([20, 30, 40, 60, 80, 100, 140, 200], [])\n",
    "ax.get_xaxis().set_major_formatter(ticker.ScalarFormatter())\n",
    "plt.legend(loc=\"upper left\", bbox_to_anchor=(1,1))\n",
    "plt.savefig(\"../figures/convergence_scalar_stiff.pdf\", bbox_inches=\"tight\")"
   ]
  },
  {
   "cell_type": "code",
   "execution_count": null,
   "metadata": {},
   "outputs": [],
   "source": []
  }
 ],
 "metadata": {
  "kernelspec": {
   "display_name": "Julia 1.5.3",
   "language": "julia",
   "name": "julia-1.5"
  },
  "language_info": {
   "file_extension": ".jl",
   "mimetype": "application/julia",
   "name": "julia",
   "version": "1.5.3"
  },
  "latex_envs": {
   "LaTeX_envs_menu_present": true,
   "autoclose": false,
   "autocomplete": true,
   "bibliofile": "references.bib",
   "cite_by": "apalike",
   "current_citInitial": 1,
   "eqLabelWithNumbers": true,
   "eqNumInitial": 1,
   "hotkeys": {
    "equation": "Ctrl-E",
    "itemize": "Ctrl-I"
   },
   "labels_anchors": false,
   "latex_user_defs": false,
   "report_style_numbering": false,
   "user_envs_cfg": false
  }
 },
 "nbformat": 4,
 "nbformat_minor": 2
}
